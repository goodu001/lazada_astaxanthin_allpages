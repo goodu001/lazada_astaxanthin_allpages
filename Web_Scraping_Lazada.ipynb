{
 "cells": [
  {
   "cell_type": "code",
   "execution_count": 6,
   "id": "8f2fd1d9-f06f-41dc-804f-244d3369774c",
   "metadata": {},
   "outputs": [
    {
     "name": "stdout",
     "output_type": "stream",
     "text": [
      "Requirement already satisfied: selenium in c:\\users\\user\\anaconda3\\lib\\site-packages (4.35.0)\n",
      "Requirement already satisfied: urllib3<3.0,>=2.5.0 in c:\\users\\user\\anaconda3\\lib\\site-packages (from urllib3[socks]<3.0,>=2.5.0->selenium) (2.5.0)\n",
      "Requirement already satisfied: trio~=0.30.0 in c:\\users\\user\\anaconda3\\lib\\site-packages (from selenium) (0.30.0)\n",
      "Requirement already satisfied: trio-websocket~=0.12.2 in c:\\users\\user\\anaconda3\\lib\\site-packages (from selenium) (0.12.2)\n",
      "Requirement already satisfied: certifi>=2025.6.15 in c:\\users\\user\\anaconda3\\lib\\site-packages (from selenium) (2025.8.3)\n",
      "Requirement already satisfied: typing_extensions~=4.14.0 in c:\\users\\user\\anaconda3\\lib\\site-packages (from selenium) (4.14.1)\n",
      "Requirement already satisfied: websocket-client~=1.8.0 in c:\\users\\user\\anaconda3\\lib\\site-packages (from selenium) (1.8.0)\n",
      "Requirement already satisfied: attrs>=23.2.0 in c:\\users\\user\\anaconda3\\lib\\site-packages (from trio~=0.30.0->selenium) (24.3.0)\n",
      "Requirement already satisfied: sortedcontainers in c:\\users\\user\\anaconda3\\lib\\site-packages (from trio~=0.30.0->selenium) (2.4.0)\n",
      "Requirement already satisfied: idna in c:\\users\\user\\anaconda3\\lib\\site-packages (from trio~=0.30.0->selenium) (3.7)\n",
      "Requirement already satisfied: outcome in c:\\users\\user\\anaconda3\\lib\\site-packages (from trio~=0.30.0->selenium) (1.3.0.post0)\n",
      "Requirement already satisfied: sniffio>=1.3.0 in c:\\users\\user\\anaconda3\\lib\\site-packages (from trio~=0.30.0->selenium) (1.3.0)\n",
      "Requirement already satisfied: cffi>=1.14 in c:\\users\\user\\anaconda3\\lib\\site-packages (from trio~=0.30.0->selenium) (1.17.1)\n",
      "Requirement already satisfied: wsproto>=0.14 in c:\\users\\user\\anaconda3\\lib\\site-packages (from trio-websocket~=0.12.2->selenium) (1.2.0)\n",
      "Requirement already satisfied: pysocks!=1.5.7,<2.0,>=1.5.6 in c:\\users\\user\\anaconda3\\lib\\site-packages (from urllib3[socks]<3.0,>=2.5.0->selenium) (1.7.1)\n",
      "Requirement already satisfied: pycparser in c:\\users\\user\\anaconda3\\lib\\site-packages (from cffi>=1.14->trio~=0.30.0->selenium) (2.21)\n",
      "Requirement already satisfied: h11<1,>=0.9.0 in c:\\users\\user\\anaconda3\\lib\\site-packages (from wsproto>=0.14->trio-websocket~=0.12.2->selenium) (0.16.0)\n"
     ]
    }
   ],
   "source": [
    "!pip install selenium\n",
    "from selenium import webdriver\n",
    "from selenium.webdriver.common.by import By\n",
    "from selenium.webdriver.support.ui import WebDriverWait\n",
    "from selenium.webdriver.support import expected_conditions as EC\n",
    "from selenium.webdriver.common.keys import Keys\n",
    "\n"
   ]
  },
  {
   "cell_type": "code",
   "execution_count": 7,
   "id": "4fc2e4d6-ad74-4bce-b14b-84a0112acaf8",
   "metadata": {},
   "outputs": [],
   "source": [
    "from selenium.webdriver.chrome.service import Service\n",
    "\n",
    "service = Service(r\"C:\\Users\\User\\OneDrive\\Desktop\\Web Scraping\\chromedriver-win32\\chromedriver.exe\")\n",
    "driver = webdriver.Chrome(service=service)"
   ]
  },
  {
   "cell_type": "code",
   "execution_count": 8,
   "id": "22323c1e-900c-49eb-b25d-1fcf46b911e6",
   "metadata": {},
   "outputs": [],
   "source": [
    "driver.get(\"https://www.lazada.co.th/\")"
   ]
  },
  {
   "cell_type": "code",
   "execution_count": 9,
   "id": "06680377-f91d-4c5c-b213-92b7e507af4b",
   "metadata": {},
   "outputs": [],
   "source": [
    "XPATH = \"/html/body/div[2]/div/div/div/div[2]/div/div[2]/div/form/div/div[1]/input[1]\"\n",
    "\n",
    "# wait for the input to be visible\n",
    "field = WebDriverWait(driver, 10).until(\n",
    "    EC.visibility_of_element_located((By.XPATH, XPATH))\n",
    ")\n",
    "\n",
    "# focus it\n",
    "field.click()\n",
    "\n",
    "# clear existing text (clear() sometimes fails on React inputs, so do both)\n",
    "field.clear()\n",
    "field.send_keys(Keys.CONTROL, \"a\")\n",
    "field.send_keys(Keys.DELETE)\n",
    "\n",
    "# type your text\n",
    "field.send_keys(\"astaxanthin\")"
   ]
  },
  {
   "cell_type": "code",
   "execution_count": 10,
   "id": "b3ab16d8-807f-468c-88ec-95666cec7a87",
   "metadata": {},
   "outputs": [],
   "source": [
    "find_button = WebDriverWait(driver, 10).until(\n",
    "    EC.element_to_be_clickable((By.XPATH, \"/html/body/div[2]/div/div/div/div[2]/div/div[2]/div/form/div/div[2]/a\"))\n",
    ")\n",
    "find_button.click()"
   ]
  },
  {
   "cell_type": "code",
   "execution_count": 19,
   "id": "7ca4d094-6976-4621-8db6-a1038aae3a74",
   "metadata": {},
   "outputs": [],
   "source": [
    "driver.execute_script(\"document.body.style.zoom='100%'\")"
   ]
  },
  {
   "cell_type": "code",
   "execution_count": 14,
   "id": "a658cd47-d888-4094-99a1-0f2e5ad58e68",
   "metadata": {},
   "outputs": [],
   "source": [
    "data = driver.page_source"
   ]
  },
  {
   "cell_type": "code",
   "execution_count": 15,
   "id": "09e1f9e8-3993-43ec-8981-e19f8e8d8ef7",
   "metadata": {},
   "outputs": [
    {
     "name": "stdout",
     "output_type": "stream",
     "text": [
      "Collecting bs4\n",
      "  Downloading bs4-0.0.2-py2.py3-none-any.whl.metadata (411 bytes)\n",
      "Requirement already satisfied: beautifulsoup4 in c:\\users\\user\\anaconda3\\lib\\site-packages (from bs4) (4.12.3)\n",
      "Requirement already satisfied: soupsieve>1.2 in c:\\users\\user\\anaconda3\\lib\\site-packages (from beautifulsoup4->bs4) (2.5)\n",
      "Downloading bs4-0.0.2-py2.py3-none-any.whl (1.2 kB)\n",
      "Installing collected packages: bs4\n",
      "Successfully installed bs4-0.0.2\n"
     ]
    }
   ],
   "source": [
    "!pip install bs4"
   ]
  },
  {
   "cell_type": "code",
   "execution_count": 16,
   "id": "be308aad-529c-46c3-b88a-c29d46aca811",
   "metadata": {},
   "outputs": [],
   "source": [
    "import bs4"
   ]
  },
  {
   "cell_type": "code",
   "execution_count": 17,
   "id": "fae5e271-2399-4155-bc56-a4e68e8fc035",
   "metadata": {},
   "outputs": [],
   "source": [
    "soup = bs4.BeautifulSoup(data)"
   ]
  },
  {
   "cell_type": "code",
   "execution_count": 23,
   "id": "ab4c32e6-5ac3-49d1-9daf-491861e8bb84",
   "metadata": {},
   "outputs": [],
   "source": [
    "all_product = soup.find_all('div',{'class':'RfADt'})"
   ]
  },
  {
   "cell_type": "code",
   "execution_count": 26,
   "id": "b294c36d-83ed-4f4f-96b1-32d243c001c7",
   "metadata": {},
   "outputs": [
    {
     "data": {
      "text/plain": [
       "['Dr.Pong Astaxanthin 6 mg AstaREAL from Japan แอสตาแซนธิน จากญี่ปุ่น Anti-aging supplement',\n",
       " 'Blackmores Astaxanthin 6Mg Plus 30C',\n",
       " 'Dr.PONG Special Set Astaxanthin แอสตาแซนธิน 3 กระปุก ลดเลือนริ้วรอย ผิวกระชับ',\n",
       " '( Pack 2 ) VISTRA ASTAXANTHIN 6 MG PLUS VITAMIN E  ( 30 Capsule) วิสทร้า แอสตาแซนธิน 6 มก. พลัส วิตามินอี  [ 30 เม็ด x 2 ขวด = 60 เม็ด ]',\n",
       " 'FITWHEY ASTAXANTHIN 6MG + COQ10 (30 SOFTGELS)  สกัดจากสาหร่ายแดง',\n",
       " 'Astaxanthin Capsules Support Skin, Nerve, and Immune Health.',\n",
       " \"Woma' Astaxanthin 6 mg. complex plus วูม่า แอสต้าแซนธิน 6 มก. คอมเพล็กซ์ พลัส\",\n",
       " '(EXP: 23/11/2025) Astaxanthin 6 MG + CoQ10 แอสตาแซนธิน [30 ซอฟท์เจล] +Vitamin E Vitamin C',\n",
       " '(ซื้อ 1 แถม 1) Dr.PONG แอสตาแซนธิน จากญี่ปุ่น 2 กระป๋อง 60 แคปซูล Astaxanthin 6 mg AstaREAL อาหารเสริมดูแลเรื่องริ้วรอย（ของแท้ 100%）',\n",
       " 'Dr.PONG Astaxanthin 6 mg. AstaREAL อาหารเสริมดูแลเรื่องริ้วรอย',\n",
       " 'AstaReal ACT2 สูตรใหม่ แอสตาแซนธินเกรดพรีเมี่ยม ต้านอนุมูลอิสระทรงพลัง นำเข้าถูกต้อง มี อย. (จำหน่ายเฉพาะในโรงพยาบาล คลินิก)',\n",
       " 'วิตามินแอสตาเรียลแอค AstaREAL®ACT Astaxanthin แบบรับประทาน มี อย.ไทย 1กระปุกมี60เม็ด (Astarealact.th)',\n",
       " 'Simply Potent Astaxanthin 10 MG 120 Soft A.663',\n",
       " 'Astaxanthin with Antarctic shrimp oil-eye health care-heart and brain health-120 capsules',\n",
       " 'COOLKIN Astaxanthin Elite 120 เม็ด | ช่วยเพิ่มความทนทานในการออกกำลังกายและป้องกันรังสียูวี',\n",
       " 'Astaxanthin 12 mg Softgels สนับสนุนสุขภาพภูมิคุ้มกัน ผิวหนัง ดวงตา และข้อต่อ',\n",
       " 'Astaxanthin Capsules Krill Oil แคปซูลแอสตาแซนธิน น้ำมันคริลล์ ฟื้นฟูข้อต่อและกล้ามเนื้อ ดูแลสุขภาพหัวใจและหลอดเลือด',\n",
       " '(แอสต้าแซนทิน) ASTAXANTHIN from Haematococcus Pluvialis Plus by Wink White 30capsules',\n",
       " 'KLARITY Omega-3 Norway Ultra+Astaxanthin โอเมก้า3 + แอสตาแซนธิน 60 แคปซูล จากประเทศนอร์เวย์ (1ขวด)',\n",
       " 'NatureBell Astaxanthin 12mg, 240 Softgels',\n",
       " 'แอสตาแซนธิน - ดูดซึมได้สูง - การเผาผลาญและสุขภาพสมอง - แคปซูลมังสวิรัติ',\n",
       " 'บีลีฟ แอสตาแซนธีน Beleaf Astaxanthin',\n",
       " 'KIRKLAND 24mg Natural Astaxanthin Capsules สนับสนุนสุขภาพหัวใจ ข้อต่อ และระบบภูมิคุ้มกัน',\n",
       " 'COOLKIN Antarctic Krill Oil Astaxanthin ซอฟต์เจล 120 เม็ด - สำหรับข้อต่อ ผิวหนัง และระบบต่างๆ ของร่างกาย',\n",
       " 'แอสตาแซนธิน 6 มก. x 1 ขวด ฟาร์มาเทค Astaxanthin 6 mg. Pharmatech สาหร่ายฮีมาโตค็อกคัส Haematococcus แอสต้าแซนธิน แอสตาแซนทิน แอสต้าแซนทีน',\n",
       " 'Vistra Asta 4Mg 14S',\n",
       " '[New Item] Vida Astaxanthin 6 mg Q10 AstaReal 20 แคปซูล (วีด้า แอสต้าแซนธิน คิวเท็น) Astaxanthin&Q10 imported from Japan',\n",
       " 'ซื้อ 1 แถม 1 Simply Potent - Astaxanthin 6mg 120 Softgels A.3392',\n",
       " 'Astaxanthin ดูดซึมได้สูงป้องกันสารต้านอนุมูลอิสระ',\n",
       " 'สาหร่ายแดง12mg  NEW(Astaxanthin) Bioastin เข้มข้มฝาสีเหลือง12mg นำเข้าจากUSA จำหน่าย1ขวดบรรจุ50',\n",
       " 'Kirkland Astaxanthin Capsules-แอสตาแซนธิน-รองรับสุขภาพผิวหนัง เส้นประสาท ดวงตา และภูมิคุ้มกัน',\n",
       " 'COOLKIN Astaxanthin Softgels+Ashwagandha & Grape Seed Oil Extract ฤทธิ์ต้านอนุมูลอิสระและต้านการอักเสบ การสนับสนุนสุขภาพดวงตา',\n",
       " '[1+1]Supurra Astaxanthin แอสต้าแซนธิน 6 มก. อนุมูลอิสระ ชะลอวัย  ตราสุเพอร์ร่า ส่งฟรี!! [C1]',\n",
       " 'นำเข้าจากญี่ปุ่น 7 IN 1 Astaxanthin จากญี่ปุ่น ( 6 มก.) 30 แคปซูล แอสต้าแซนทิน สาหร่ายสีแดง + อาหารผิว 7 ชนิด',\n",
       " 'Vita astaxanthin capsules (30 capsules) Vita astaxanthin capsules 6 mg',\n",
       " '✨ เซริ ผลิตภัณฑ์เสริมอาหาร ZERI Asta Jelly Astaxanthin Collagen Tri-Peptide (1กล่อง 5ซอง)',\n",
       " 'Astaxanthin Capsules-แอสตาแซนธิน-เพิ่มความทนทานของกล้ามเนื้อและต่อต้านวัย',\n",
       " 'Astaxanthin Softgels - ส่งเสริมการเติมน้ำและความกระชับของผิว และสนับสนุนสุขภาพหัวใจ ข้อต่อ และระบบภูมิคุ้มกัน',\n",
       " 'Dary Vit Astaxanthin ดารี่ วิต แอสตร้าแซนติน 30 แคปซูล',\n",
       " '[1แถม1] INZENT ASTAXANTHIN 6 MG แอสตาแซนธิน 6 มก. (30 แคปซูล) แอสต้าแซนธีน แอสต้าแซนทีน สาหร่ายสีแดง ผิว สวย ขาว เนียน']"
      ]
     },
     "execution_count": 26,
     "metadata": {},
     "output_type": "execute_result"
    }
   ],
   "source": [
    "all_product_list = []\n",
    "for product in all_product:\n",
    "    all_product_list.append(product.text)\n",
    "all_product_list"
   ]
  },
  {
   "cell_type": "code",
   "execution_count": 40,
   "id": "90b80a22-dd1e-4c24-9827-d1e57802dd48",
   "metadata": {},
   "outputs": [],
   "source": [
    "all_price = soup.find_all('div',{'class':'aBrP0'})"
   ]
  },
  {
   "cell_type": "code",
   "execution_count": 41,
   "id": "7df4c1db-2f98-496d-a2dc-c40f45b18c12",
   "metadata": {},
   "outputs": [
    {
     "data": {
      "text/plain": [
       "['฿379.00',\n",
       " '฿469.00',\n",
       " '฿1,099.00',\n",
       " '฿1,232.00',\n",
       " '฿199.00',\n",
       " '฿313.65',\n",
       " '฿2,072.56',\n",
       " '฿99.00',\n",
       " '฿319.00',\n",
       " '฿963.76',\n",
       " '฿3,790.15',\n",
       " '฿2,950.00',\n",
       " '฿999.00',\n",
       " '฿86.50',\n",
       " '฿45.00',\n",
       " '฿197.00',\n",
       " '฿45.00',\n",
       " '฿149.00',\n",
       " '฿1,050.00',\n",
       " '฿1,690.00',\n",
       " '฿165.45',\n",
       " '฿159.00',\n",
       " '฿223.00',\n",
       " '฿45.00',\n",
       " '฿99.00',\n",
       " '฿165.00',\n",
       " '฿199.00',\n",
       " '฿1,059.00',\n",
       " '฿217.00',\n",
       " '฿990.00',\n",
       " '฿230.00',\n",
       " '฿55.00',\n",
       " '฿159.00',\n",
       " '฿199.00',\n",
       " '฿118.00',\n",
       " '฿39.00',\n",
       " '฿210.00',\n",
       " '฿201.00',\n",
       " '฿119.00',\n",
       " '฿180.00']"
      ]
     },
     "execution_count": 41,
     "metadata": {},
     "output_type": "execute_result"
    }
   ],
   "source": [
    "all_price_list = []\n",
    "for price in all_price:\n",
    "    all_price_list.append(price.text)\n",
    "all_price_list"
   ]
  },
  {
   "cell_type": "code",
   "execution_count": 42,
   "id": "b7be0928-fc8e-43e0-8e9d-9daf4af25f79",
   "metadata": {},
   "outputs": [],
   "source": [
    "sold_vol = soup.find_all('div',{'class':'_6uN7R'})"
   ]
  },
  {
   "cell_type": "code",
   "execution_count": 43,
   "id": "c059eefb-bec4-44bb-8fa0-c04cafe30358",
   "metadata": {},
   "outputs": [
    {
     "data": {
      "text/plain": [
       "['100.4K sold(29573)Pathum Thani',\n",
       " '4.2K sold(1139)Chachoengsao',\n",
       " '3.5K sold(1581)Pathum Thani',\n",
       " '3.4K sold(1385)Nonthaburi',\n",
       " '7.4K sold(2370)Samut Prakan',\n",
       " 'Krabi',\n",
       " 'Kanchanaburi',\n",
       " '116 sold(60)Samut Prakan',\n",
       " '3.1K sold(1123)Bangkok',\n",
       " 'Nakhon Ratchasima',\n",
       " 'Bangkok',\n",
       " '1.0K sold(208)Bangkok',\n",
       " '194 sold(88)Nonthaburi',\n",
       " 'Samut Prakan',\n",
       " '(1)Chiang Mai',\n",
       " '1.2K sold(422)Chiang Mai',\n",
       " 'Chiang Mai',\n",
       " '16 sold(3)Bangkok',\n",
       " '26 sold(10)Samut Prakan',\n",
       " 'Prachuap Khiri Khan',\n",
       " '(1)Samut Prakan',\n",
       " '28 sold(7)Samut Prakan',\n",
       " '255 sold(79)Chiang Mai',\n",
       " 'Chiang Mai',\n",
       " '339 sold(128)Bangkok',\n",
       " '495 sold(133)Chachoengsao',\n",
       " '666 sold(284)Samut Prakan',\n",
       " '295 sold(186)Nonthaburi',\n",
       " '460 sold(186)Chiang Mai',\n",
       " '1.3K sold(312)Bangkok',\n",
       " '7 sold(3)Chachoengsao',\n",
       " '19 sold(18)Chiang Mai',\n",
       " '12.7K sold(5253)Kanchanaburi',\n",
       " '877 sold(203)Bangkok',\n",
       " '299 sold(126)Bangkok',\n",
       " '12 sold(0)Samut Prakan',\n",
       " 'Chiang Mai',\n",
       " '67 sold(35)Chiang Mai',\n",
       " '1.7K sold(464)Bangkok',\n",
       " '2.9K sold(1176)Kanchanaburi']"
      ]
     },
     "execution_count": 43,
     "metadata": {},
     "output_type": "execute_result"
    }
   ],
   "source": [
    "all_sold_vol = []\n",
    "for sold in sold_vol:\n",
    "    all_sold_vol.append(sold.text)\n",
    "all_sold_vol"
   ]
  },
  {
   "cell_type": "code",
   "execution_count": 45,
   "id": "2a93b98b-f50b-4c16-a0f8-c9094d97eaa7",
   "metadata": {},
   "outputs": [],
   "source": [
    "import pandas as pd"
   ]
  },
  {
   "cell_type": "code",
   "execution_count": 61,
   "id": "04569d6a-1508-42ac-af5a-908ded7194eb",
   "metadata": {},
   "outputs": [],
   "source": [
    "lazada_asta = pd.DataFrame([all_product_list, all_price_list, all_sold_vol])"
   ]
  },
  {
   "cell_type": "code",
   "execution_count": 63,
   "id": "404b206b-af6b-448f-bc5d-638da377c078",
   "metadata": {},
   "outputs": [],
   "source": [
    "lazada_asta = lazada_asta.transpose()"
   ]
  },
  {
   "cell_type": "code",
   "execution_count": 65,
   "id": "92b5a6b7-bc96-480e-af85-7e2e5ae73927",
   "metadata": {},
   "outputs": [],
   "source": [
    "lazada_asta.to_csv(r'C:\\Users\\User\\OneDrive\\Desktop\\Web Scraping\\lazada_asta.csv')"
   ]
  },
  {
   "cell_type": "code",
   "execution_count": null,
   "id": "ba60d18c-ade7-4442-9b94-68b150e663a4",
   "metadata": {},
   "outputs": [],
   "source": []
  }
 ],
 "metadata": {
  "kernelspec": {
   "display_name": "Python 3 (ipykernel)",
   "language": "python",
   "name": "python3"
  },
  "language_info": {
   "codemirror_mode": {
    "name": "ipython",
    "version": 3
   },
   "file_extension": ".py",
   "mimetype": "text/x-python",
   "name": "python",
   "nbconvert_exporter": "python",
   "pygments_lexer": "ipython3",
   "version": "3.13.5"
  }
 },
 "nbformat": 4,
 "nbformat_minor": 5
}
